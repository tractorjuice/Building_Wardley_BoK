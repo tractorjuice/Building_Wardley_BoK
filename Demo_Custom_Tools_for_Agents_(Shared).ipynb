{
  "nbformat": 4,
  "nbformat_minor": 0,
  "metadata": {
    "colab": {
      "provenance": [],
      "collapsed_sections": [
        "BwXpfziurEqs",
        "HqwsGJDhvAQ5",
        "dilR9hZvkwjo",
        "8ySvezMoCIuw"
      ],
      "include_colab_link": true
    },
    "kernelspec": {
      "name": "python3",
      "display_name": "Python 3"
    },
    "language_info": {
      "name": "python"
    }
  },
  "cells": [
    {
      "cell_type": "markdown",
      "metadata": {
        "id": "view-in-github",
        "colab_type": "text"
      },
      "source": [
        "<a href=\"https://colab.research.google.com/github/tractorjuice/Building_Wardley_BoK/blob/main/Demo_Custom_Tools_for_Agents_(Shared).ipynb\" target=\"_parent\"><img src=\"https://colab.research.google.com/assets/colab-badge.svg\" alt=\"Open In Colab\"/></a>"
      ]
    },
    {
      "cell_type": "markdown",
      "source": [
        "### Setup"
      ],
      "metadata": {
        "id": "P242rOFcDKq-"
      }
    },
    {
      "cell_type": "code",
      "execution_count": null,
      "metadata": {
        "id": "RRYSu48huSUW"
      },
      "outputs": [],
      "source": [
        "!pip -q install langchain openai"
      ]
    },
    {
      "cell_type": "markdown",
      "source": [
        "### Enter your OpenAI API Key in this Section"
      ],
      "metadata": {
        "id": "BwXpfziurEqs"
      }
    },
    {
      "cell_type": "code",
      "source": [
        "import os\n",
        "\n",
        "os.environ[\"OPENAI_API_KEY\"] = \"\""
      ],
      "metadata": {
        "id": "lSclwP8Bc8Sg"
      },
      "execution_count": null,
      "outputs": []
    },
    {
      "cell_type": "markdown",
      "source": [
        "### Import Dependencies"
      ],
      "metadata": {
        "id": "HqwsGJDhvAQ5"
      }
    },
    {
      "cell_type": "code",
      "source": [
        "from langchain.agents import load_tools\n",
        "from langchain.utilities import TextRequestsWrapper\n",
        "from langchain.agents import initialize_agent\n",
        "from langchain.llms import OpenAI"
      ],
      "metadata": {
        "id": "HN6--fwnsNDb"
      },
      "execution_count": null,
      "outputs": []
    },
    {
      "cell_type": "code",
      "source": [
        "# Import things that are needed generically\n",
        "from langchain.agents import initialize_agent, Tool\n",
        "from langchain.agents import AgentType\n",
        "from langchain.tools import BaseTool\n",
        "from langchain.llms import OpenAI\n",
        "import requests"
      ],
      "metadata": {
        "id": "Oy7-ikkyjhCL"
      },
      "execution_count": null,
      "outputs": []
    },
    {
      "cell_type": "code",
      "source": [
        "llm = OpenAI(temperature=0)"
      ],
      "metadata": {
        "id": "zAzeM-shjo2Q"
      },
      "execution_count": null,
      "outputs": []
    },
    {
      "cell_type": "markdown",
      "source": [
        "### TOOLS"
      ],
      "metadata": {
        "id": "pwUR6v56CDgP"
      }
    },
    {
      "cell_type": "markdown",
      "source": [
        "### Build the Tools by Subclassing the BaseTool class"
      ],
      "metadata": {
        "id": "dilR9hZvkwjo"
      }
    },
    {
      "cell_type": "code",
      "source": [
        "def get_police_forces():\n",
        "    url = \"https://data.police.uk/api/forces\"\n",
        "    response = requests.get(url)\n",
        "\n",
        "    if response.status_code == 200:\n",
        "        return response.json()\n",
        "    else:\n",
        "        return None\n",
        "\n",
        "def search_police_forces(query):\n",
        "    police_forces = get_police_forces()\n",
        "\n",
        "    if not police_forces:\n",
        "        print(\"Error: Unable to fetch police forces\")\n",
        "        return\n",
        "\n",
        "    matching_forces = []\n",
        "\n",
        "    for force in police_forces:\n",
        "        if query.lower() in force[\"name\"].lower():\n",
        "            matching_forces.append(force)\n",
        "\n",
        "    return matching_forces\n",
        "\n",
        "class search_police_force(BaseTool):\n",
        "    name = \"search_police_force\"\n",
        "    description = \"useful for when you need to answer questions about police forces, such as the id\tUnique force identifier and Police Force name\"\n",
        "\n",
        "    def _run(self, query: str) -> str:\n",
        "        \"\"\"Use the tool.\"\"\"\n",
        "        return search_police_forces(query)\n",
        "\n",
        "    async def _arun(self, query: str) -> str:\n",
        "        \"\"\"Use the tool asynchronously.\"\"\"\n",
        "        raise NotImplementedError(\"API does not support async\")\n",
        "\n",
        "# Example usage\n",
        "force_id = \"devon\"\n",
        "police_force_data = search_police_forces(force_id)\n",
        "print (police_force_data)"
      ],
      "metadata": {
        "id": "L3abVRSWtTqN"
      },
      "execution_count": null,
      "outputs": []
    },
    {
      "cell_type": "code",
      "source": [
        "def get_police_force_id(force_id):\n",
        "    url = f\"https://data.police.uk/api/forces/{force_id}\"\n",
        "    response = requests.get(url)\n",
        "\n",
        "    if response.status_code == 200:\n",
        "        return response.json()\n",
        "    else:\n",
        "        return None\n",
        "\n",
        "\n",
        "class get_police_force_details(BaseTool):\n",
        "    name = \"get_police_force_details\"\n",
        "    description = \"useful for when you need to answer questions about a specific police force such as the website, ways to keep informed, telephone number, Unique force identifier or Force name\"\n",
        "\n",
        "    def _run(self, query: str) -> str:\n",
        "        \"\"\"Use the tool.\"\"\"\n",
        "        return get_police_force_id(query)\n",
        "\n",
        "    async def _arun(self, query: str) -> str:\n",
        "        \"\"\"Use the tool asynchronously.\"\"\"\n",
        "        raise NotImplementedError(\"API does not support async\")\n",
        "\n",
        "# Example usage\n",
        "force_id = \"devon-and-cornwall\"\n",
        "police_force_data = get_police_force_id(force_id)\n",
        "print (police_force_data)"
      ],
      "metadata": {
        "id": "8u9LM9Xdv_Gt"
      },
      "execution_count": null,
      "outputs": []
    },
    {
      "cell_type": "code",
      "source": [
        "def get_police_force_people(force_id):\n",
        "    url = f\"https://data.police.uk/api/forces/{force_id}/people\"\n",
        "    response = requests.get(url)\n",
        "\n",
        "    if response.status_code == 200:\n",
        "        return response.json()\n",
        "    else:\n",
        "        return None\n",
        "\n",
        "\n",
        "class get_police_force_peoples(BaseTool):\n",
        "    name = \"get_police_force_peoples\"\n",
        "    description = \"useful for when you need to answer questions about Senior officer bio\"\n",
        "\n",
        "    def _run(self, query: str) -> str:\n",
        "        \"\"\"Use the tool.\"\"\"\n",
        "        return get_police_force_people(query)\n",
        "\n",
        "    async def _arun(self, query: str) -> str:\n",
        "        \"\"\"Use the tool asynchronously.\"\"\"\n",
        "        raise NotImplementedError(\"API does not support async\")\n",
        "\n",
        "# Example usage\n",
        "force_id = \"leicestershire\"\n",
        "police_force_data = get_police_force_people(force_id)\n",
        "print (police_force_data)"
      ],
      "metadata": {
        "id": "ptV5_3ZP5P09"
      },
      "execution_count": null,
      "outputs": []
    },
    {
      "cell_type": "code",
      "source": [
        "def get_neighbourhoods(force_id):\n",
        "    url = f\"https://data.police.uk/api/{force_id}/neighbourhoods\"\n",
        "    cleaned_url = url.replace(\"'\", \"\")\n",
        "    response = requests.get(cleaned_url)\n",
        "    neighbourhoods = response.json()\n",
        "\n",
        "    if response.status_code == 200:\n",
        "        names = [entry['name'] for entry in neighbourhoods]\n",
        "        names_string = ', '.join(names)\n",
        "        return (names_string)\n",
        "    else:\n",
        "        return None\n",
        "\n",
        "class get_police_neighbourhoods(BaseTool):\n",
        "    name = \"get_police_neighbourhoods\"\n",
        "    description = \"useful for when you need to answer questions about the name for the police force neighbourhood. You will need to use GetPoliceforce first to get the force name for the API\"\n",
        "\n",
        "    def _run(self, query: str) -> str:\n",
        "        \"\"\"Use the tool.\"\"\"\n",
        "        return get_neighbourhoods(query)\n",
        "\n",
        "    async def _arun(self, query: str) -> str:\n",
        "        \"\"\"Use the tool asynchronously.\"\"\"\n",
        "        raise NotImplementedError(\"API does not support async\")\n",
        "\n",
        "# Example usage\n",
        "force_id = \"\\'devon-and-cornwall\\'\"\n",
        "neighbourhood_data = get_neighbourhoods(force_id)\n",
        "print (neighbourhood_data)"
      ],
      "metadata": {
        "id": "HlOpVYhA8Ok2"
      },
      "execution_count": null,
      "outputs": []
    },
    {
      "cell_type": "code",
      "source": [
        "def locate_neighbourhood(latlong):\n",
        "\n",
        "    url = f\"https://data.police.uk/api/locate-neighbourhood?q={latlong}\"\n",
        "    response = requests.get(url)\n",
        "\n",
        "    if response.status_code == 200:\n",
        "        return response.json()\n",
        "    else:\n",
        "        return None\n",
        "\n",
        "class locate_police_neighbourhood(BaseTool):\n",
        "    name = \"locate_police_neighbourhood\"\n",
        "    description = \"useful for when you need to answer questions about the location of a police neighbourhood using lattitude, longitude numbers. Pass lattitude and longitude as a string\"\n",
        "\n",
        "    def _run(self, query: str) -> str:\n",
        "        \"\"\"Use the tool.\"\"\"\n",
        "        return locate_neighbourhood(query)\n",
        "\n",
        "    async def _arun(self, query: str) -> str:\n",
        "        \"\"\"Use the tool asynchronously.\"\"\"\n",
        "        raise NotImplementedError(\"API does not support async\")\n",
        "\n",
        "# Example usage\n",
        "latlong = \"50.3656 ,-4.1423\"\n",
        "neighbourhood_data = locate_neighbourhood(latlong)\n",
        "print (neighbourhood_data)"
      ],
      "metadata": {
        "id": "V17fueh92phd"
      },
      "execution_count": null,
      "outputs": []
    },
    {
      "cell_type": "markdown",
      "source": [
        "### Create Tools Config"
      ],
      "metadata": {
        "id": "8ySvezMoCIuw"
      }
    },
    {
      "cell_type": "code",
      "source": [
        "# Load the tool configs that are needed.\n",
        "tools = [\n",
        "    Tool(\n",
        "        name=\"SearchPoliceForce\",\n",
        "        func=search_police_force.run,\n",
        "        description=\"useful for when you need to answer questions about police forces, such as the id\tUnique force identifier and Police Force name\"\n",
        "    ),\n",
        "    Tool(\n",
        "        name=\"GetPoliceforceDetails\",\n",
        "        func=get_police_force_details.run,\n",
        "        description=\"useful for when you need to answer questions about a specific police force such as the website, ways to keep informed, telephone number, Unique force identifier or Force name\"\n",
        "    ),\n",
        "    Tool(\n",
        "        name=\"GetPoliceforcePeople\",\n",
        "        func=get_police_force_peoples.run,\n",
        "        description=\"useful for when you need to answer questions about Senior officer bio\"\n",
        "    ),\n",
        "        Tool(\n",
        "        name=\"GetPoliceforceNeighbourhood\",\n",
        "        func=get_police_neighbourhoods.run,\n",
        "        description=\"useful for when you need to answer questions about the name for the police force neighbourhood. You will need to use GetPoliceforceDetails first to get the force name for the API\"\n",
        "    ),\n",
        "    Tool(\n",
        "        name=\"LocatePoliceNeighbourhood\",\n",
        "        func=locate_police_neighbourhood.run,\n",
        "        description=\"useful for when you need to answer questions about the location of a police neighbourhood using lattitude, longitude numbers. Pass lattitude and longitude as a string\"\n",
        "    )\n",
        "]"
      ],
      "metadata": {
        "id": "TLnIU9UxraZK"
      },
      "execution_count": null,
      "outputs": []
    },
    {
      "cell_type": "code",
      "source": [
        "tools = [search_police_force(), get_police_force_details(), get_police_neighbourhoods(), locate_police_neighbourhood()]"
      ],
      "metadata": {
        "id": "IseQRUEhjoul"
      },
      "execution_count": null,
      "outputs": []
    },
    {
      "cell_type": "code",
      "source": [
        "agent = initialize_agent(tools, llm, agent=AgentType.ZERO_SHOT_REACT_DESCRIPTION, verbose=True)"
      ],
      "metadata": {
        "id": "oaReherUjog6"
      },
      "execution_count": null,
      "outputs": []
    },
    {
      "cell_type": "markdown",
      "source": [
        "### Use Agent to Ask Questions - Agent will pick best tool for the job"
      ],
      "metadata": {
        "id": "ihfBrzRUARsD"
      }
    },
    {
      "cell_type": "code",
      "source": [
        "# Locate police force by lat, long [Still Work in progress]\n",
        "agent.run(\"Get the police chief for latitude 50.3656, longitude -4.1423\")"
      ],
      "metadata": {
        "id": "W64keQmt4oFS"
      },
      "execution_count": null,
      "outputs": []
    },
    {
      "cell_type": "code",
      "source": [
        "agent.run(\"Get the police force neighbourhoods for devon\")"
      ],
      "metadata": {
        "id": "i8FxKFLJQIhj"
      },
      "execution_count": null,
      "outputs": []
    },
    {
      "cell_type": "code",
      "source": [
        "agent.run(\"Get get the senior police officer bios at leicestershire police force\")"
      ],
      "metadata": {
        "id": "OYYr2Tk-k7tM"
      },
      "execution_count": null,
      "outputs": []
    }
  ]
}